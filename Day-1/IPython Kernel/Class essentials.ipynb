{
 "cells": [
  {
   "cell_type": "markdown",
   "metadata": {},
   "source": [
    "# Python classes: essentials"
   ]
  },
  {
   "cell_type": "markdown",
   "metadata": {},
   "source": [
    "To get the most out of the IPython notebook, and particularly the [Rich Display System](Rich Output.ipynb), you need to understand python classes.\n",
    "\n",
    "Classes are a feature of object oriented programming. They package data and functions that relate to a single \"object\", whatever that might be. For example, a training course like this has some instructors and a number of participants, but we may have to replace one instructor with another. To represent this in code we write"
   ]
  },
  {
   "cell_type": "code",
   "execution_count": 1,
   "metadata": {
    "collapsed": true
   },
   "outputs": [],
   "source": [
    "class Course(object):\n",
    "    \n",
    "    def __init__(self, name, instructors, participants):\n",
    "\n",
    "        self.name = name\n",
    "        self.instructors = instructors\n",
    "        self.participants = participants\n",
    "        \n",
    "    def __repr__(self):\n",
    "        \n",
    "        return ('The course \"%s\" with %d participants is taught by %s.' % (self.name,\n",
    "                                                                         self.participants,\n",
    "                                                                         self.instructors))    \n",
    "    def change_instructors(self, new_instructors):\n",
    "        \n",
    "        self.instructors = new_instructors\n",
    "    "
   ]
  },
  {
   "cell_type": "markdown",
   "metadata": {},
   "source": [
    "The `__init__` function (sometimes called \"dunder init\") constructs a new instance of the class, setting the internal variables. These are accessed using the dot notation. For example:"
   ]
  },
  {
   "cell_type": "code",
   "execution_count": 2,
   "metadata": {
    "collapsed": false
   },
   "outputs": [
    {
     "name": "stdout",
     "output_type": "stream",
     "text": [
      "Course name is IPython.\n"
     ]
    }
   ],
   "source": [
    "ipython = Course(name=\"IPython\", instructors=\"Fernando Perez\", participants=25)\n",
    "print(\"Course name is %s.\" % ipython.name)"
   ]
  },
  {
   "cell_type": "markdown",
   "metadata": {},
   "source": [
    "Note that we do not have to pass the `self` argument through to *any* function defined inside the class."
   ]
  },
  {
   "cell_type": "markdown",
   "metadata": {},
   "source": [
    "The `__repr__` function gives the *representation* of the function. It returns a string. When you `print` an instance of the class, it is this string representation that is shown. For example:"
   ]
  },
  {
   "cell_type": "code",
   "execution_count": 3,
   "metadata": {
    "collapsed": false
   },
   "outputs": [
    {
     "name": "stdout",
     "output_type": "stream",
     "text": [
      "The course \"IPython\" with 25 participants is taught by Fernando Perez.\n"
     ]
    }
   ],
   "source": [
    "print(ipython)"
   ]
  },
  {
   "cell_type": "markdown",
   "metadata": {},
   "source": [
    "Other functions defined inside the class are *methods*. These are called using the dot notation, and again the `self` variable is not passed through. For example:"
   ]
  },
  {
   "cell_type": "code",
   "execution_count": 4,
   "metadata": {
    "collapsed": false
   },
   "outputs": [
    {
     "name": "stdout",
     "output_type": "stream",
     "text": [
      "The course \"IPython\" with 25 participants is taught by Min Ragan-Kelley.\n"
     ]
    }
   ],
   "source": [
    "ipython.change_instructors(\"Min Ragan-Kelley\")\n",
    "print(ipython)"
   ]
  },
  {
   "cell_type": "markdown",
   "metadata": {},
   "source": [
    "We can define as many instances of the class as we like."
   ]
  },
  {
   "cell_type": "code",
   "execution_count": 5,
   "metadata": {
    "collapsed": false
   },
   "outputs": [
    {
     "name": "stdout",
     "output_type": "stream",
     "text": [
      "The course \"Pandas\" with 20 participants is taught by Chris Fonnesbeck, Skipper Seabold.\n"
     ]
    }
   ],
   "source": [
    "pandas = Course(\"Pandas\", \"Chris Fonnesbeck, Skipper Seabold\", 20)\n",
    "print(pandas)"
   ]
  },
  {
   "cell_type": "markdown",
   "metadata": {},
   "source": [
    "The great thing about classes in python is that if you define the right functions (methods), python automatically gives you access to lots of \"natural\" extensions with little effort. Examples in standard python include the `__add__` method, which defines how to \"add\" together two instances of the class.\n",
    "\n",
    "Let's assume that adding the IPython course to the Pandas course gives a course with both names and all the instructors, but that only the *minimum* number of students (their intersection, in a sense) want to take it. So we represent this as:"
   ]
  },
  {
   "cell_type": "code",
   "execution_count": 6,
   "metadata": {
    "collapsed": true
   },
   "outputs": [],
   "source": [
    "class Course(object):\n",
    "    \n",
    "    def __init__(self, name, instructors, participants):\n",
    "\n",
    "        self.name = name\n",
    "        self.instructors = instructors\n",
    "        self.participants = participants\n",
    "        \n",
    "    def __repr__(self):\n",
    "        \n",
    "        return ('The course \"%s\" with %d participants is taught by %s.' % (self.name,\n",
    "                                                                         self.participants,\n",
    "                                                                         self.instructors))\n",
    "    \n",
    "    def __add__(a, b):\n",
    "        \n",
    "        name = ' and '.join([a.name, b.name])\n",
    "        instructors = ', '.join([a.instructors, b.instructors])\n",
    "        participants = min(a.participants, b.participants)\n",
    "        \n",
    "        return Course(name, instructors, participants)\n",
    "    \n",
    "    def change_instructors(self, new_instructors):\n",
    "        \n",
    "        self.instructors = new_instructors\n",
    "    "
   ]
  },
  {
   "cell_type": "markdown",
   "metadata": {},
   "source": [
    "We have to redefine our courses, and then we can add them:"
   ]
  },
  {
   "cell_type": "code",
   "execution_count": 7,
   "metadata": {
    "collapsed": false
   },
   "outputs": [
    {
     "name": "stdout",
     "output_type": "stream",
     "text": [
      "The course \"IPython and Pandas\" with 20 participants is taught by Fernando Perez, Chris Fonnesbeck, Skipper Seabold.\n"
     ]
    }
   ],
   "source": [
    "ipython = Course(name=\"IPython\", instructors=\"Fernando Perez\", participants=25)\n",
    "pandas = Course(\"Pandas\", \"Chris Fonnesbeck, Skipper Seabold\", 20)\n",
    "print(ipython + pandas)"
   ]
  },
  {
   "cell_type": "markdown",
   "metadata": {},
   "source": [
    "There's a [long list of standard python operators](https://docs.python.org/2/library/operator.html) that you can extend in this way.\n",
    "\n",
    "This mechanism is used by IPython in its Rich Display system. Class methods with very specific names are used to interact with webpages, return specific representations of objects, and so on."
   ]
  }
 ],
 "metadata": {
  "kernelspec": {
   "display_name": "Python 3",
   "language": "python",
   "name": "python3"
  },
  "language_info": {
   "codemirror_mode": {
    "name": "ipython",
    "version": 3
   },
   "file_extension": ".py",
   "mimetype": "text/x-python",
   "name": "python",
   "nbconvert_exporter": "python",
   "pygments_lexer": "ipython3",
   "version": "3.4.3"
  }
 },
 "nbformat": 4,
 "nbformat_minor": 0
}
